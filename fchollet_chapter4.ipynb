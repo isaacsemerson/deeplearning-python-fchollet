{
  "nbformat": 4,
  "nbformat_minor": 0,
  "metadata": {
    "colab": {
      "provenance": [],
      "authorship_tag": "ABX9TyONyyQAtVQ1+jucfiJU0xon",
      "include_colab_link": true
    },
    "kernelspec": {
      "name": "python3",
      "display_name": "Python 3"
    },
    "language_info": {
      "name": "python"
    }
  },
  "cells": [
    {
      "cell_type": "markdown",
      "metadata": {
        "id": "view-in-github",
        "colab_type": "text"
      },
      "source": [
        "<a href=\"https://colab.research.google.com/github/isaacsemerson/deeplearning-python-fchollet/blob/main/fchollet_chapter4.ipynb\" target=\"_parent\"><img src=\"https://colab.research.google.com/assets/colab-badge.svg\" alt=\"Open In Colab\"/></a>"
      ]
    },
    {
      "cell_type": "code",
      "execution_count": 13,
      "metadata": {
        "id": "pzUumUl_5w5X"
      },
      "outputs": [],
      "source": [
        "# run this before anything else\n",
        "from tensorflow.keras.datasets import imdb\n",
        "import numpy as np\n",
        "from tensorflow import keras\n",
        "from keras import layers\n",
        "import matplotlib.pyplot as plt\n",
        "(train_data, train_labels), (test_data, test_labels) = imdb.load_data(num_words=10000)"
      ]
    },
    {
      "cell_type": "markdown",
      "source": [
        "Listing 4.1 - This loads the imdb reviews dataset from keras. This set contains 50000 reviews, split between the training and test sets. Half of the reviews are positive, the other half are negative.\n",
        "\n",
        "num_words within load_data() will keep only the top amount of num_words occuring in the dataset. With the normal word variety we would be training on too many unique words, making classification less accurate (the model may perform significantly worse on the test dataset)."
      ],
      "metadata": {
        "id": "xn6tjWLW_7pw"
      }
    },
    {
      "cell_type": "code",
      "source": [
        "word_index = imdb.get_word_index()\n",
        "reverse_word_index = dict(\n",
        "    [(value, key) for (key, value) in word_index.items()])\n",
        "decoded_review = \" \".join([reverse_word_index.get(i - 3, \"?\") for i in train_data[0]])\n",
        "print(\"First sample decode:\", decoded_review)"
      ],
      "metadata": {
        "id": "d44Q5_K2Gs7G",
        "colab": {
          "base_uri": "https://localhost:8080/"
        },
        "outputId": "737f5a2d-025e-47ff-8567-81f920552082"
      },
      "execution_count": 6,
      "outputs": [
        {
          "output_type": "stream",
          "name": "stdout",
          "text": [
            "First sample decode: ? this film was just brilliant casting location scenery story direction everyone's really suited the part they played and you could just imagine being there robert ? is an amazing actor and now the same being director ? father came from the same scottish island as myself so i loved the fact there was a real connection with this film the witty remarks throughout the film were great it was just brilliant so much that i bought the film as soon as it was released for ? and would recommend it to everyone to watch and the fly fishing was amazing really cried at the end it was so sad and you know what they say if you cry at a film it must have been good and this definitely was also ? to the two little boy's that played the ? of norman and paul they were just brilliant children are often left out of the ? list i think because the stars that play them all grown up are such a big profile for the whole film but these children are amazing and should be praised for what they have done don't you think the whole story was so lovely because it was true and was someone's life after all that was shared with us all\n"
          ]
        }
      ]
    },
    {
      "cell_type": "markdown",
      "source": [
        "Listing 4.2 - This is how you would translate a review to English. get_word_index() returns a dictionary of word/index KVPs. We then flip the dictionary as we want to get words (original key) based on index (original value). The \"i - 3\" is special to this dataset. The first 3 indicies (0-2) are reserved for special utilities."
      ],
      "metadata": {
        "id": "NnDLtdU2Puyo"
      }
    },
    {
      "cell_type": "code",
      "source": [
        "def vectorize_sequences(sequences, dimension=10000):\n",
        "  results = np.zeros((len(sequences), dimension))\n",
        "  for sentenceIndex, sentence in enumerate(sequences):\n",
        "    for wordIndex in sentence:\n",
        "      results[sentenceIndex, wordIndex] = 1\n",
        "  return results\n",
        "\n",
        "x_train = vectorize_sequences(train_data)\n",
        "x_test = vectorize_sequences(test_data)\n",
        "print(\"Shape of vectorized training data:\", x_train.shape)\n",
        "y_train = np.asarray(train_labels).astype(\"float32\")\n",
        "y_test = np.asarray(test_labels).astype(\"float32\")"
      ],
      "metadata": {
        "colab": {
          "base_uri": "https://localhost:8080/"
        },
        "id": "6I09EHh9pKsl",
        "outputId": "5a2fb806-257d-474b-e835-910d8589b859"
      },
      "execution_count": 7,
      "outputs": [
        {
          "output_type": "stream",
          "name": "stdout",
          "text": [
            "Shape of vectorized training data: (25000, 10000)\n"
          ]
        }
      ]
    },
    {
      "cell_type": "markdown",
      "source": [
        "Listing 4.3 - We need to feed our model a standard data length (and the model does not accept lists). The default dataset has a variable sentence length, so the above function turns each sentence into a vector row. Each column represents the index of a word in our dictionary. If a specific word is included in our sentence, the corresponding column is marked by a 1.\n",
        "\n",
        "This method does prevent us from tracking the number of times a specific word is said, however I assume that does not matter for the binary classification we are attempting here.\n",
        "\n",
        "The last two lines vectorize our labels in preparation for the model."
      ],
      "metadata": {
        "id": "TxztdAGwrJet"
      }
    },
    {
      "cell_type": "code",
      "source": [
        "model = keras.Sequential([\n",
        "    layers.Dense(16, activation=\"relu\"),\n",
        "    layers.Dense(16, activation=\"relu\"),\n",
        "    layers.Dense(1, activation=\"sigmoid\")\n",
        "])"
      ],
      "metadata": {
        "id": "WMNENNSzrmd4"
      },
      "execution_count": 8,
      "outputs": []
    },
    {
      "cell_type": "markdown",
      "source": [
        "Listing 4.4 - Defining our model. The book holds our hand here and says it will explain more in chapter 5, but for now we are told that a stack of dense layers works well on binary classifcation (vectors to scalars, specifically 0 or 1). With that being said, a stack of dense layers requires us to decide how many layers and what the output units will be. However, the book also decides this, reserving explaination until the next chapter. It does say that larger output units will result in a more complex representation/transformation of the data, but that may cause the model to overfit.\n",
        "\n",
        "Activations:\n",
        "- Relu, this essentially zeros out negative values (think of an xy axis, a relu activation will prevent y from ever being negative)\n",
        "- Sigmoid, this squishes the number to a probability value between 0 and 1."
      ],
      "metadata": {
        "id": "Jn5U1RrS0wmd"
      }
    },
    {
      "cell_type": "code",
      "source": [
        "model.compile(optimizer=\"rmsprop\",\n",
        "              loss=\"binary_crossentropy\",\n",
        "              metrics=[\"accuracy\"])"
      ],
      "metadata": {
        "id": "lMdXE62N1avQ"
      },
      "execution_count": 9,
      "outputs": []
    },
    {
      "cell_type": "markdown",
      "source": [
        "Listing 4.5 - Here we are compiling the model.\n",
        "\n",
        "Optimizer - Book advises us to use rmsprop as an optimizer as it is a good default choice for most models.\n",
        "\n",
        "Loss - The book advises us to go with crossentropy as it is \"usually the best choice for binary classification\". This loss function compares the distance between probability distributions for a batch of predictions and targets (example, 60% of this batch is positive for targets but only 40% of our predictions are positive).\n",
        "\n",
        "Metrics - Accuracy here as a default (an abstract of the loss value)."
      ],
      "metadata": {
        "id": "XYwQ_WG-4ZUc"
      }
    },
    {
      "cell_type": "code",
      "source": [
        "x_val = x_train[:10000]\n",
        "partial_x_train = x_train[10000:]\n",
        "y_val = y_train[:10000]\n",
        "partial_y_train = y_train[10000:]"
      ],
      "metadata": {
        "id": "HaYqUhRVrdmc"
      },
      "execution_count": 10,
      "outputs": []
    },
    {
      "cell_type": "markdown",
      "source": [
        "Listing 4.6 - Setting aside part of the training data to be used for validation. Accuracy of the model is calculated using the validation data, however we do not adjust the model based on the results."
      ],
      "metadata": {
        "id": "eEmipcZvsTaZ"
      }
    },
    {
      "cell_type": "code",
      "source": [
        "history = model.fit(partial_x_train,\n",
        "                    partial_y_train,\n",
        "                    epochs=20,\n",
        "                    batch_size=512,\n",
        "                    validation_data=(x_val, y_val))"
      ],
      "metadata": {
        "colab": {
          "base_uri": "https://localhost:8080/"
        },
        "id": "oXa8RzkzsryR",
        "outputId": "f37626f7-1661-4ed8-cffb-b3156e9956d3"
      },
      "execution_count": 11,
      "outputs": [
        {
          "output_type": "stream",
          "name": "stdout",
          "text": [
            "Epoch 1/20\n",
            "30/30 [==============================] - 4s 96ms/step - loss: 0.5145 - accuracy: 0.7921 - val_loss: 0.4090 - val_accuracy: 0.8428\n",
            "Epoch 2/20\n",
            "30/30 [==============================] - 1s 43ms/step - loss: 0.3207 - accuracy: 0.8923 - val_loss: 0.3288 - val_accuracy: 0.8714\n",
            "Epoch 3/20\n",
            "30/30 [==============================] - 2s 60ms/step - loss: 0.2445 - accuracy: 0.9173 - val_loss: 0.2857 - val_accuracy: 0.8874\n",
            "Epoch 4/20\n",
            "30/30 [==============================] - 2s 65ms/step - loss: 0.1986 - accuracy: 0.9341 - val_loss: 0.2805 - val_accuracy: 0.8881\n",
            "Epoch 5/20\n",
            "30/30 [==============================] - 1s 42ms/step - loss: 0.1663 - accuracy: 0.9447 - val_loss: 0.2796 - val_accuracy: 0.8885\n",
            "Epoch 6/20\n",
            "30/30 [==============================] - 1s 46ms/step - loss: 0.1426 - accuracy: 0.9531 - val_loss: 0.2906 - val_accuracy: 0.8859\n",
            "Epoch 7/20\n",
            "30/30 [==============================] - 2s 55ms/step - loss: 0.1232 - accuracy: 0.9598 - val_loss: 0.2928 - val_accuracy: 0.8866\n",
            "Epoch 8/20\n",
            "30/30 [==============================] - 2s 52ms/step - loss: 0.1068 - accuracy: 0.9671 - val_loss: 0.3104 - val_accuracy: 0.8854\n",
            "Epoch 9/20\n",
            "30/30 [==============================] - 1s 44ms/step - loss: 0.0928 - accuracy: 0.9729 - val_loss: 0.3188 - val_accuracy: 0.8835\n",
            "Epoch 10/20\n",
            "30/30 [==============================] - 1s 44ms/step - loss: 0.0804 - accuracy: 0.9774 - val_loss: 0.3398 - val_accuracy: 0.8818\n",
            "Epoch 11/20\n",
            "30/30 [==============================] - 2s 53ms/step - loss: 0.0692 - accuracy: 0.9806 - val_loss: 0.3943 - val_accuracy: 0.8667\n",
            "Epoch 12/20\n",
            "30/30 [==============================] - 2s 77ms/step - loss: 0.0591 - accuracy: 0.9856 - val_loss: 0.3911 - val_accuracy: 0.8701\n",
            "Epoch 13/20\n",
            "30/30 [==============================] - 1s 47ms/step - loss: 0.0520 - accuracy: 0.9874 - val_loss: 0.4077 - val_accuracy: 0.8711\n",
            "Epoch 14/20\n",
            "30/30 [==============================] - 2s 54ms/step - loss: 0.0450 - accuracy: 0.9899 - val_loss: 0.4168 - val_accuracy: 0.8763\n",
            "Epoch 15/20\n",
            "30/30 [==============================] - 1s 45ms/step - loss: 0.0391 - accuracy: 0.9915 - val_loss: 0.4508 - val_accuracy: 0.8741\n",
            "Epoch 16/20\n",
            "30/30 [==============================] - 2s 52ms/step - loss: 0.0344 - accuracy: 0.9923 - val_loss: 0.4595 - val_accuracy: 0.8740\n",
            "Epoch 17/20\n",
            "30/30 [==============================] - 2s 53ms/step - loss: 0.0276 - accuracy: 0.9951 - val_loss: 0.4835 - val_accuracy: 0.8732\n",
            "Epoch 18/20\n",
            "30/30 [==============================] - 1s 49ms/step - loss: 0.0243 - accuracy: 0.9966 - val_loss: 0.5565 - val_accuracy: 0.8575\n",
            "Epoch 19/20\n",
            "30/30 [==============================] - 1s 43ms/step - loss: 0.0234 - accuracy: 0.9955 - val_loss: 0.5259 - val_accuracy: 0.8719\n",
            "Epoch 20/20\n",
            "30/30 [==============================] - 2s 63ms/step - loss: 0.0204 - accuracy: 0.9964 - val_loss: 0.5449 - val_accuracy: 0.8696\n"
          ]
        }
      ]
    },
    {
      "cell_type": "markdown",
      "source": [
        "Listing 4.7 - This is the training step. We are running 20 epoch in a batch size of 512. Every epoch reads out the duration, loss/accuracy for the training data, and loss/accuracy for the validation data."
      ],
      "metadata": {
        "id": "nWjQMlQptUb_"
      }
    },
    {
      "cell_type": "code",
      "source": [
        "history_dict = history.history\n",
        "loss_values = history_dict[\"loss\"]\n",
        "val_loss_values = history_dict[\"val_loss\"]\n",
        "epochs = range(1, len(loss_values) + 1)\n",
        "\n",
        "plt.plot(epochs, loss_values, \"bo\", label=\"Training loss\")\n",
        "plt.plot(epochs, val_loss_values, \"b\", label=\"Validation loss\")\n",
        "\n",
        "plt.title(\"Training and validation loss\")\n",
        "plt.xlabel(\"Epochs\")\n",
        "plt.ylabel(\"Loss\")\n",
        "plt.legend()\n",
        "plt.show()"
      ],
      "metadata": {
        "colab": {
          "base_uri": "https://localhost:8080/",
          "height": 472
        },
        "id": "YSxMYLGavfV5",
        "outputId": "2df0d341-8a05-4e19-e378-ceff22c5b431"
      },
      "execution_count": 17,
      "outputs": [
        {
          "output_type": "display_data",
          "data": {
            "text/plain": [
              "<Figure size 640x480 with 1 Axes>"
            ],
            "image/png": "[encoded data removed]"
          },
          "metadata": {}
        }
      ]
    },
    {
      "cell_type": "markdown",
      "source": [
        "Listing 4.8 - Here we are plotting the loss function for the training and validation data. The training data looks as expected, however the validation data trends upwards after the 3rd epoch."
      ],
      "metadata": {
        "id": "82y7UakowmDU"
      }
    },
    {
      "cell_type": "code",
      "source": [
        "acc = history_dict[\"accuracy\"]\n",
        "val_acc = history_dict[\"val_accuracy\"]\n",
        "\n",
        "plt.plot(epochs, acc, \"bo\", label=\"Training acc\")\n",
        "plt.plot(epochs, val_acc, \"b\", label=\"Validation acc\")\n",
        "\n",
        "plt.title(\"Training and validation accuracy\")\n",
        "plt.xlabel(\"Epochs\")\n",
        "plt.ylabel(\"Accuracy\")\n",
        "plt.legend()\n",
        "plt.show()"
      ],
      "metadata": {
        "colab": {
          "base_uri": "https://localhost:8080/",
          "height": 472
        },
        "id": "JOtVF6Kvwyth",
        "outputId": "13ce0963-5d8c-4a12-ba4a-0dfcc6f3c929"
      },
      "execution_count": 19,
      "outputs": [
        {
          "output_type": "display_data",
          "data": {
            "text/plain": [
              "<Figure size 640x480 with 1 Axes>"
            ],
            "image/png": "[encoded data removed]"
          },
          "metadata": {}
        }
      ]
    },
    {
      "cell_type": "markdown",
      "source": [
        "Listing 4.9 - This plots the accuracy for training and validation data. Again we are seeing the training data increase to near 100% as expected, but unfortunately the validation data gets worse. This is an example of a model overfitting to the training data."
      ],
      "metadata": {
        "id": "04rjyBH-xjs4"
      }
    },
    {
      "cell_type": "code",
      "source": [
        "model = keras.Sequential([\n",
        "    layers.Dense(\"16\", activation=\"relu\"),\n",
        "    layers.Dense(\"16\", activation=\"relu\"),\n",
        "    layers.Dense(\"1\", activation=\"sigmoid\")\n",
        "])\n",
        "\n",
        "model.compile(\n",
        "    optimizer=\"rmsprop\",\n",
        "    loss=\"binary_crossentropy\",\n",
        "    metrics=[\"accuracy\"])\n",
        "\n",
        "model.fit(x_train, y_train, epochs=4, batch_size=512)\n",
        "results = model.evaluate(x_test, y_test)"
      ],
      "metadata": {
        "colab": {
          "base_uri": "https://localhost:8080/"
        },
        "id": "iMV1f7qPyrao",
        "outputId": "168abf39-a3b4-4f3d-cc63-fadd3a4193ab"
      },
      "execution_count": 20,
      "outputs": [
        {
          "output_type": "stream",
          "name": "stdout",
          "text": [
            "Epoch 1/4\n",
            "49/49 [==============================] - 2s 30ms/step - loss: 0.4822 - accuracy: 0.8123\n",
            "Epoch 2/4\n",
            "49/49 [==============================] - 1s 29ms/step - loss: 0.2853 - accuracy: 0.9007\n",
            "Epoch 3/4\n",
            "49/49 [==============================] - 2s 38ms/step - loss: 0.2244 - accuracy: 0.9174\n",
            "Epoch 4/4\n",
            "49/49 [==============================] - 2s 38ms/step - loss: 0.1896 - accuracy: 0.9323\n",
            "782/782 [==============================] - 2s 3ms/step - loss: 0.2890 - accuracy: 0.8846\n"
          ]
        }
      ]
    },
    {
      "cell_type": "markdown",
      "source": [
        "Listing 4.10 - One way to solve overfitting is to lower the epoch count. This is especially true in cases like this where we see the validation data improve up to a certain epoch before getting worse.\n",
        "\n",
        "Overfitting is essentially when your model trains too much on the training data and overoptimizes for that set exclusively. This causes incorrect representations to be made of the data. Chapter 5 explains other solutions to overfitting.\n",
        "\n",
        "As we see here, the final results from our evaluate() on the test data is an 89% accuracy rate, much better than 20 epochs."
      ],
      "metadata": {
        "id": "KBrNdkPRzaO_"
      }
    },
    {
      "cell_type": "code",
      "source": [
        "model.predict(x_test)"
      ],
      "metadata": {
        "colab": {
          "base_uri": "https://localhost:8080/"
        },
        "id": "MIdqzH_401DZ",
        "outputId": "1327e429-09d3-406d-95af-d057679b811e"
      },
      "execution_count": 21,
      "outputs": [
        {
          "output_type": "stream",
          "name": "stdout",
          "text": [
            "782/782 [==============================] - 2s 3ms/step\n"
          ]
        },
        {
          "output_type": "execute_result",
          "data": {
            "text/plain": [
              "array([[0.2792618 ],\n",
              "       [0.9999502 ],\n",
              "       [0.9232727 ],\n",
              "       ...,\n",
              "       [0.10269347],\n",
              "       [0.11780463],\n",
              "       [0.69913834]], dtype=float32)"
            ]
          },
          "metadata": {},
          "execution_count": 21
        }
      ]
    },
    {
      "cell_type": "markdown",
      "source": [
        "Listing 4.10b - Here is an example of using the predict function, which is how you can use the model after training.\n",
        "\n",
        "The resulting numbers are predictions for each review being positive or negative."
      ],
      "metadata": {
        "id": "bkCIme-X04p2"
      }
    }
  ]
}